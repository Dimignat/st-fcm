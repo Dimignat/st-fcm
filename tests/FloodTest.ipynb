{
 "cells": [
  {
   "cell_type": "code",
   "execution_count": 2,
   "id": "da566ae2",
   "metadata": {
    "pycharm": {
     "name": "#%%\n"
    }
   },
   "outputs": [],
   "source": [
    "import time\n",
    "import numpy as np\n",
    "import pandas as pd\n",
    "import matplotlib.pyplot as plt\n",
    "\n",
    "from osgeo import gdal\n",
    "from pathlib import Path\n",
    "from numpy.typing import NDArray\n",
    "from typing import List, Dict, Tuple\n",
    "\n",
    "from sklearn.preprocessing import LabelEncoder\n",
    "from sklearn.metrics import classification_report\n",
    "from sklearn.semi_supervised import SelfTrainingClassifier\n",
    "from sklearn.calibration import CalibratedClassifierCV"
   ]
  },
  {
   "cell_type": "code",
   "execution_count": 1,
   "id": "d4fc0fd5",
   "metadata": {
    "pycharm": {
     "name": "#%%\n"
    }
   },
   "outputs": [],
   "source": [
    "from components.dataloader import AbstractDataLoader\n",
    "from components.fcm import FCM\n",
    "from components.ssl import SemiSupervisedModel"
   ]
  },
  {
   "cell_type": "code",
   "execution_count": null,
   "id": "a4d6c415",
   "metadata": {
    "pycharm": {
     "name": "#%%\n"
    }
   },
   "outputs": [],
   "source": [
    "import warnings\n",
    "warnings.filterwarnings(\"ignore\")"
   ]
  },
  {
   "cell_type": "code",
   "execution_count": 109,
   "id": "3235c283",
   "metadata": {
    "pycharm": {
     "name": "#%%\n"
    }
   },
   "outputs": [],
   "source": [
    "# source files\n",
    "SOURCES = []\n",
    "\n",
    "# label files\n",
    "LABELS = []"
   ]
  },
  {
   "cell_type": "code",
   "execution_count": 112,
   "id": "ad612302",
   "metadata": {
    "pycharm": {
     "name": "#%%\n"
    }
   },
   "outputs": [],
   "source": [
    "class FloodDataLoder(AbstractDataLoader):\n",
    "    classes = [\n",
    "        255, # water\n",
    "        0, # no water\n",
    "        15, # no data\n",
    "    ]\n",
    "    \n",
    "    def __init__(self, sources: List[str], labels: List[str], idx=0, random_state=42):\n",
    "        self.source = [Path(f) for f in sources]\n",
    "        self.labels = [Path(f) for f in labels]\n",
    "        self.idx = idx\n",
    "        self.rng = np.random.default_rng(random_state)\n",
    "        self.le = LabelEncoder()\n",
    "\n",
    "        self.initial_size = None\n",
    "        self.labeled = None\n",
    "        self.labels_arr = None\n",
    "        self.raw_labels = None\n",
    "        self.unlabeled = None\n",
    "        self.unlabeled_raw = None\n",
    "        \n",
    "    def _load_tif(self, source=True):\n",
    "        if source:\n",
    "            ds = gdal.Open(str(self.source[self.idx] / 'VV.tif'), gdal.GA_ReadOnly)\n",
    "        else:\n",
    "            ds = gdal.Open(str(self.labels[self.idx] / 'raster_labels.tif'), gdal.GA_ReadOnly)\n",
    "        rb = ds.GetRasterBand(1)\n",
    "        img_array = rb.ReadAsArray()\n",
    "        self.initial_size = img_array.shape\n",
    "        return img_array.reshape(-1)\n",
    "    \n",
    "    def sample(X, y, samples):\n",
    "        unique_ys = np.unique(y, axis=0)\n",
    "        result = []\n",
    "        for unique_y in unique_ys:\n",
    "            val_indices = np.argwhere(y==unique_y).flatten()\n",
    "            random_samples = np.random.choice(val_indices, samples, replace=False)\n",
    "            ret.append(X[random_samples])\n",
    "        return np.concatenate(result)\n",
    "        \n",
    "    def _extract_all(self, percentage: float = 0.1):\n",
    "        source_img = self._load_tif(source=True)\n",
    "        label_img = self._load_tif(source=False)\n",
    "        \n",
    "        labeled, labels, unlabeled = [], [], []\n",
    "        labeled_indices = np.array([], dtype=int)\n",
    "        \n",
    "        value_counts = dict(zip(*np.unique(label_img, return_counts=True)))\n",
    "        for klass in self.classes[:-1]:\n",
    "            n_labeled = int(value_counts[klass] * percentage)\n",
    "            class_indices = np.argwhere(label_img == klass).flatten()\n",
    "            indices = self.rng.choice(class_indices, n_labeled, replace=False, shuffle=False)\n",
    "            \n",
    "            labeled.append(source_img[indices])\n",
    "            labels.append(label_img[indices])\n",
    "            labeled_indices = np.concatenate((labeled_indices, indices), axis=0)\n",
    "        \n",
    "        labeled = np.concatenate(labeled, axis=0)\n",
    "        \n",
    "        labels = np.concatenate(labels, axis=0)\n",
    "        labels = self.le.fit_transform(labels).reshape(-1)\n",
    "        \n",
    "        unlabeled = pd.DataFrame(np.delete(source_img, labeled_indices))\n",
    "        unlabeled = unlabeled[unlabeled[0] != 9999].reset_index(drop=True) # костыль\n",
    "        return pd.DataFrame(labeled), labels, pd.DataFrame(unlabeled), pd.DataFrame(source_img, dtype=int), label_img\n",
    "        \n",
    "    def get_labeled(self) -> Tuple[pd.DataFrame, NDArray]:\n",
    "        if self.labeled is None:\n",
    "            self.labeled, self.labels_arr, self.unlabeled, self.unlabeled_raw, self.raw_labels = self._extract_all()\n",
    "        return self.labeled.copy(), self.labels_arr.copy()\n",
    "    \n",
    "    def get_raw_labels(self) -> NDArray:\n",
    "        if self.raw_labels is None:\n",
    "            self.labeled, self.labels_arr, self.unlabeled, self.unlabeled_raw, self.raw_labels = self._extract_all()\n",
    "        return self.raw_labels.copy()\n",
    "    \n",
    "    def get_unlabeled(self) -> pd.DataFrame:\n",
    "        if self.unlabeled is None:\n",
    "            self.labeled, self.labels_arr, self.unlabeled, self.unlabeled_raw, self.raw_labels = self._extract_all()\n",
    "        return self.unlabeled.copy()\n",
    "    \n",
    "    def get_unlabeled_raw(self) -> pd.DataFrame:\n",
    "        if self.unlabeled_raw is None:\n",
    "            self.labeled, self.labels_arr, self.unlabeled, self.unlabeled_raw, self.raw_labels = self._extract_all()\n",
    "        return self.unlabeled_raw.copy()\n",
    "\n",
    "    def get_unique_labels(self) -> List[str]:\n",
    "        return self.classes[:-1]"
   ]
  },
  {
   "cell_type": "code",
   "execution_count": 138,
   "id": "6eb63e93",
   "metadata": {
    "pycharm": {
     "name": "#%%\n"
    }
   },
   "outputs": [],
   "source": [
    "def metrics(y_true, y_pred):    \n",
    "    cr = classification_report(y_true, y_pred, output_dict=True)\n",
    "    return cr\n",
    "\n",
    "def train_ssl(dl):\n",
    "    clf = SGDClassifier(max_iter=10_000, random_state=42, class_weight='balanced', n_jobs=-1)\n",
    "    clustering = FCM()\n",
    "    ssl = SemiSupervisedModel(clf, clustering, dl)\n",
    "    ssl.increase_labeled(0.9, 0.9, min_perc=0.0)\n",
    "    ssl.fit()\n",
    "    return ssl\n",
    "\n",
    "def train_st(dl):\n",
    "    l, ll = dl.get_labeled()\n",
    "    u = dl.get_unlabeled()\n",
    "    ul = np.array([-1]*u.shape[0])\n",
    "    \n",
    "    x = np.concatenate((l, u))\n",
    "    y = np.concatenate((ll, ul))\n",
    "    \n",
    "    clf = SGDClassifier(max_iter=10_000, random_state=42, class_weight='balanced', n_jobs=-1)\n",
    "    calib_model = CalibratedClassifierCV(clf, method='isotonic', cv=3, n_jobs=-1)\n",
    "    st = SelfTrainingClassifier(calib_model, max_iter=3)\n",
    "    st.fit(x, y)\n",
    "    return st\n",
    "\n",
    "\n",
    "def train_default(dl):\n",
    "    clf = SGDClassifier(max_iter=10_000, random_state=42, class_weight='balanced', n_jobs=-1)\n",
    "    clf.fit(*dl.get_labeled())\n",
    "    return clf\n",
    "\n",
    "\n",
    "def predict(dl, model):\n",
    "    to_pred = dl.get_unlabeled_raw()\n",
    "    #print('to_pred1', to_pred.shape)\n",
    "    to_pred = to_pred[to_pred[0] != 9999]\n",
    "    #print('to_pred2', to_pred.shape)\n",
    "    preds = model.predict(to_pred)\n",
    "    preds_df = pd.DataFrame(dl.le.inverse_transform(preds))\n",
    "    \n",
    "    x_raw = dl.get_unlabeled_raw()\n",
    "    indexes = x_raw[x_raw[0] != 9999].index\n",
    "    x_raw.iloc[indexes] = preds_df\n",
    "    y_pred = np.where(x_raw == 9999, 15, x_raw)\n",
    "    return y_pred\n",
    "\n",
    "\n",
    "def run_experiment(idx=0, show=False):\n",
    "    dl = FloodDataLoder(SOURCES, LABELS, idx)\n",
    "\n",
    "    t1 = time.time()\n",
    "    st = train_st(dl)\n",
    "    t2 = time.time()\n",
    "    st_time = t2-t1\n",
    "    print(f'ST Time: {st_time:.2f}')\n",
    "    \n",
    "    t1 = time.time()\n",
    "    ssl = train_ssl(dl)\n",
    "    t2 = time.time()\n",
    "    ssl_time = t2-t1\n",
    "    print(f'SSL Time: {ssl_time:.2f}')\n",
    "    \n",
    "    t1 = time.time()\n",
    "    clf = train_default(dl)\n",
    "    t2 = time.time()\n",
    "    clf_time = t2-t1\n",
    "    print(f'Default Time: {clf_time:.2f}')\n",
    "    \n",
    "    ssl_preds = predict(dl, ssl)\n",
    "    clf_preds = predict(dl, clf)\n",
    "    st_preds = predict(dl, st)\n",
    "    \n",
    "    y_true = dl.get_raw_labels()\n",
    "    try:\n",
    "        ssl_ms = metrics(y_true, ssl_preds)\n",
    "    except Exception as e:\n",
    "        print(f'SSL Exception: {e}')\n",
    "        ssl_ms = None\n",
    "        \n",
    "    try:\n",
    "        clf_ms = metrics(y_true, clf_preds)\n",
    "    except Exception as e:\n",
    "        print(f'CLF Exception: {e}')\n",
    "        clf_ms = None\n",
    "        \n",
    "    try:\n",
    "        st_ms = metrics(y_true, st_preds)\n",
    "    except Exception as e:\n",
    "        print(f'CLF Exception: {e}')\n",
    "        st_ms = None\n",
    "\n",
    "    if show:\n",
    "        true_im = y_true.reshape(dl.initial_size)\n",
    "        ssl_im = ssl_preds.reshape(dl.initial_size)\n",
    "        clf_im = clf_preds.reshape(dl.initial_size)\n",
    "        st_im = st_preds.reshape(dl.initial_size)\n",
    "        \n",
    "        fig = plt.figure(figsize=(12, 12))\n",
    "        for i, im in enumerate([true_im, st_im, ssl_im, clf_im], 1): \n",
    "            fig.add_subplot(1, 4, i)\n",
    "            plt.imshow(im)\n",
    "        plt.show()\n",
    "        fig.clear()\n",
    "    \n",
    "    st_ms['time'] = st_time\n",
    "    ssl_ms['time'] = ssl_time\n",
    "    clf_ms['time'] = clf_time\n",
    "    return {'st': st_ms, 'ssl': ssl_ms, 'default': clf_ms}"
   ]
  },
  {
   "cell_type": "code",
   "execution_count": null,
   "id": "b91a1316",
   "metadata": {
    "pycharm": {
     "name": "#%%\n"
    }
   },
   "outputs": [],
   "source": []
  }
 ],
 "metadata": {
  "kernelspec": {
   "display_name": "Python 3 (ipykernel)",
   "language": "python",
   "name": "python3"
  },
  "language_info": {
   "codemirror_mode": {
    "name": "ipython",
    "version": 3
   },
   "file_extension": ".py",
   "mimetype": "text/x-python",
   "name": "python",
   "nbconvert_exporter": "python",
   "pygments_lexer": "ipython3",
   "version": "3.9.16"
  }
 },
 "nbformat": 4,
 "nbformat_minor": 5
}