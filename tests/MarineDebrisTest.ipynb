{
 "cells": [
  {
   "cell_type": "code",
   "execution_count": 1,
   "id": "10797344",
   "metadata": {
    "pycharm": {
     "name": "#%%\n"
    }
   },
   "outputs": [],
   "source": [
    "import time\n",
    "import numpy as np\n",
    "import pandas as pd\n",
    "import matplotlib.pyplot as plt\n",
    "\n",
    "from osgeo import gdal\n",
    "from pathlib import Path\n",
    "from numpy.typing import NDArray\n",
    "from typing import List, Dict, Tuple\n",
    "\n",
    "from sklearn.preprocessing import LabelEncoder\n",
    "from sklearn.metrics import classification_report\n",
    "from sklearn.semi_supervised import SelfTrainingClassifier\n",
    "from sklearn.calibration import CalibratedClassifierCV"
   ]
  },
  {
   "cell_type": "code",
   "execution_count": 2,
   "id": "30c9bcaf",
   "metadata": {
    "pycharm": {
     "name": "#%%\n"
    }
   },
   "outputs": [],
   "source": [
    "from components.dataloader import AbstractDataLoader\n",
    "from components.fcm import FCM\n",
    "from components.ssl import SemiSupervisedModel"
   ]
  },
  {
   "cell_type": "code",
   "execution_count": 3,
   "id": "6ec3afd8",
   "metadata": {
    "pycharm": {
     "name": "#%%\n"
    }
   },
   "outputs": [],
   "source": [
    "import warnings\n",
    "warnings.filterwarnings(\"ignore\")"
   ]
  },
  {
   "cell_type": "code",
   "execution_count": 4,
   "id": "3be86bd1",
   "metadata": {
    "pycharm": {
     "name": "#%%\n"
    }
   },
   "outputs": [
    {
     "ename": "NameError",
     "evalue": "name 'AbstractDataLoader' is not defined",
     "output_type": "error",
     "traceback": [
      "\u001B[0;31m---------------------------------------------------------------------------\u001B[0m",
      "\u001B[0;31mNameError\u001B[0m                                 Traceback (most recent call last)",
      "Cell \u001B[0;32mIn[4], line 1\u001B[0m\n\u001B[0;32m----> 1\u001B[0m \u001B[38;5;28;01mclass\u001B[39;00m \u001B[38;5;21;01mCropDataLoader\u001B[39;00m(\u001B[43mAbstractDataLoader\u001B[49m):\n\u001B[1;32m      2\u001B[0m     bands \u001B[38;5;241m=\u001B[39m [\u001B[38;5;124m'\u001B[39m\u001B[38;5;124mr\u001B[39m\u001B[38;5;124m'\u001B[39m, \u001B[38;5;124m'\u001B[39m\u001B[38;5;124mg\u001B[39m\u001B[38;5;124m'\u001B[39m, \u001B[38;5;124m'\u001B[39m\u001B[38;5;124mb\u001B[39m\u001B[38;5;124m'\u001B[39m]\n\u001B[1;32m      3\u001B[0m     \u001B[38;5;66;03m#classes = [0, 1, 2, 3, 4]\u001B[39;00m\n",
      "\u001B[0;31mNameError\u001B[0m: name 'AbstractDataLoader' is not defined"
     ]
    }
   ],
   "source": [
    "class CropDataLoader(AbstractDataLoader):\n",
    "    bands = ['r', 'g', 'b']\n",
    "    #classes = [0, 1, 2, 3, 4]\n",
    "    initial_size = (256, 256)\n",
    "    \n",
    "    def __init__(self, idx=0):\n",
    "        self.all_ds = None\n",
    "        self.idx = idx\n",
    "        self.le = LabelEncoder()\n",
    "        self.labeled = None\n",
    "        self.labels = None\n",
    "        self.unlabeled = None\n",
    "    \n",
    "    def set_all_ds(self):\n",
    "        main_dir = '/Users/dimignatiev/Documents/HSE/Deeplom/SSL/nasa_marine_debris'\n",
    "\n",
    "        sources_sub_dir = f'{main_dir}/nasa_marine_debris_source'\n",
    "        sources = sorted([f'{sources_sub_dir}/{f}' for f in os.listdir(sources_sub_dir) if 'source' in f])\n",
    "\n",
    "        labels_sub_dir = f'{main_dir}/nasa_marine_debris_labels'\n",
    "        labels = sorted([f'{labels_sub_dir}/{f}' for f in os.listdir(labels_sub_dir) if 'labels' in f])\n",
    "\n",
    "        n_pics = 100\n",
    "        res_dfs = []\n",
    "        for id_, (l, s) in enumerate(zip(labels[:n_pics], sources[:n_pics])):\n",
    "            ds = gdal.Open(f'{s}/image_geotiff.tif', gdal.GA_ReadOnly)\n",
    "            source_bands = []\n",
    "            for i in range(1, 4):\n",
    "                rb = ds.GetRasterBand(1)\n",
    "                arr = rb.ReadAsArray().reshape(-1, 1)\n",
    "                source_bands.append(arr)\n",
    "\n",
    "            label_arr = np.full((256, 256), -1)\n",
    "            bbs = np.load(f'{l}/pixel_bounds.npy')\n",
    "            for bb in bbs:\n",
    "                label_arr[bb[1]:bb[3],bb[0]:bb[2]] = bb[4]\n",
    "            label_arr = label_arr.reshape(-1, 1)\n",
    "            source_bands.append(label_arr)\n",
    "            res_df = pd.DataFrame(np.concatenate(source_bands, axis=1), columns=['r', 'g', 'b', 'label'])\n",
    "            res_df['id'] = id_\n",
    "            res_dfs.append(res_df)\n",
    "        self.all_ds = pd.concat(res_dfs)\n",
    "        \n",
    "    def set_sub_dss(self):\n",
    "        pic_df = self.all_ds[self.all_ds['id'] == self.idx].copy()\n",
    "        pic_df['is_labeled'] = False\n",
    "        self.pic_classes = pic_df['label'].unique()\n",
    "        for cl in self.pic_classes:\n",
    "            cl_df = pic_df[pic_df['label'] == cl].sample(frac=0.1, random_state=42)\n",
    "            pic_df.loc[cl_df.index, 'is_labeled'] = True\n",
    "        self.labeled = pic_df[pic_df['is_labeled'] == True][self.bands]\n",
    "        self.labels = self.le.fit_transform(pic_df[pic_df['is_labeled'] == True]['label'])\n",
    "        self.unlabeled = pic_df[pic_df['is_labeled'] == False][self.bands]\n",
    "\n",
    "    def get_labeled(self) -> Tuple[pd.DataFrame, NDArray]:\n",
    "        return self.labeled.copy(), self.labels.copy()\n",
    "\n",
    "    def get_unlabeled(self) -> pd.DataFrame:\n",
    "        return self.unlabeled.copy()\n",
    "    \n",
    "    def get_unlabeled_raw(self):\n",
    "        return self.all_ds[self.all_ds['id'] == self.idx][self.bands].copy()\n",
    "    \n",
    "    def get_raw_labels(self):\n",
    "        return self.all_ds[self.all_ds['id'] == self.idx]['label'].copy()\n",
    "    \n",
    "    def get_w_idx(self):\n",
    "        return self.all_ds[self.all_ds['id'] == self.idx].copy()\n",
    "\n",
    "    def get_unique_labels(self) -> List[str]:\n",
    "        return self.pic_classes"
   ]
  },
  {
   "cell_type": "code",
   "execution_count": null,
   "id": "89e91e45",
   "metadata": {
    "pycharm": {
     "name": "#%%\n"
    }
   },
   "outputs": [],
   "source": [
    "def metrics(y_true, y_pred):    \n",
    "    cr = classification_report(y_true, y_pred, output_dict=True)\n",
    "    return cr\n",
    "    \n",
    "\n",
    "def train_ssl(dl):\n",
    "    clf = SGDClassifier(max_iter=10_000, random_state=42, class_weight='balanced', n_jobs=-1)\n",
    "    clustering = FCM()\n",
    "    ka_ = RBFSampler(gamma='scale', random_state=42)\n",
    "    ssl = SelfSupervisedModel(clf, clustering, dl, ka_)\n",
    "    ssl.increase_labeled(0.7, 0.7, min_perc=0.0)\n",
    "    ssl.fit()\n",
    "    return ssl\n",
    "\n",
    "\n",
    "def train_st(dl):\n",
    "    l, ll = dl.get_labeled()\n",
    "    u = dl.get_unlabeled()\n",
    "    ul = np.array([-1]*u.shape[0])\n",
    "    \n",
    "    x = np.concatenate((l, u))\n",
    "    y = np.concatenate((ll, ul))\n",
    "    \n",
    "    clf = SGDClassifier(max_iter=10_000, random_state=42, class_weight='balanced', n_jobs=-1)\n",
    "    calib_model = CalibratedClassifierCV(clf, method='isotonic', cv=3, n_jobs=-1)\n",
    "    st = SelfTrainingClassifier(calib_model)\n",
    "    st.fit(x, y)\n",
    "    return st\n",
    "\n",
    "\n",
    "def train_default(dl):\n",
    "    clf = SGDClassifier(max_iter=10_000, random_state=42, class_weight='balanced', n_jobs=-1)\n",
    "    clf.fit(*dl.get_labeled())\n",
    "    return clf\n",
    "\n",
    "\n",
    "def predict(dl, model):\n",
    "    to_pred = dl.get_unlabeled_raw()\n",
    "    preds = model.predict(to_pred)\n",
    "    preds = dl.le.inverse_transform(preds)\n",
    "    return preds\n",
    "\n",
    "\n",
    "def run_experiment(idx=0, show=False):    \n",
    "    dl = CropDataLoader(idx)\n",
    "    dl.set_all_ds()\n",
    "    dl.set_sub_dss()\n",
    "\n",
    "    t1 = time.time()\n",
    "    st = train_st(dl)\n",
    "    t2 = time.time()\n",
    "    st_time = t2-t1\n",
    "    print(f'ST Time: {st_time:.2f}')\n",
    "    \n",
    "    t1 = time.time()\n",
    "    ssl = train_ssl(dl)\n",
    "    t2 = time.time()\n",
    "    ssl_time = t2-t1\n",
    "    print(f'SSL Time: {ssl_time:.2f}')\n",
    "    \n",
    "    t1 = time.time()\n",
    "    clf = train_default(dl)\n",
    "    t2 = time.time()\n",
    "    clf_time = t2-t1\n",
    "    print(f'Default Time: {clf_time:.2f}')\n",
    "    \n",
    "    sub_df = dl.get_w_idx()\n",
    "    \n",
    "    sub_df['ssl_preds'] = predict(dl, ssl)\n",
    "    sub_df['clf_preds'] = predict(dl, clf)\n",
    "    sub_df['st_preds'] = predict(dl, st)\n",
    "    \n",
    "    y_true = sub_df['label'].to_numpy()\n",
    "    ssl_preds = sub_df['ssl_preds'].to_numpy()\n",
    "    clf_preds = sub_df['clf_preds'].to_numpy()\n",
    "    st_preds = sub_df['st_preds'].to_numpy()\n",
    "\n",
    "    ssl_ms = metrics(y_true, ssl_preds)\n",
    "    clf_ms = metrics(y_true, clf_preds)\n",
    "    st_ms = metrics(y_true, st_preds)\n",
    "\n",
    "    if show:\n",
    "        true_im = y_true.reshape(dl.initial_size)\n",
    "        ssl_im = ssl_preds.reshape(dl.initial_size)\n",
    "        clf_im = clf_preds.reshape(dl.initial_size)\n",
    "        st_im = st_preds.reshape(dl.initial_size)\n",
    "\n",
    "        fig = plt.figure(figsize=(12, 12))\n",
    "        for i, im in enumerate([true_im, st_im, ssl_im, clf_im], 1): \n",
    "            fig.add_subplot(1, 4, i)\n",
    "            plt.imshow(im)\n",
    "        plt.show()\n",
    "        fig.clear()\n",
    "\n",
    "    st_ms['time'] = st_time\n",
    "    ssl_ms['time'] = ssl_time\n",
    "    clf_ms['time'] = clf_time\n",
    "    \n",
    "    return {'st': st_ms, 'ssl': ssl_ms, 'default': clf_ms}"
   ]
  },
  {
   "cell_type": "code",
   "execution_count": null,
   "id": "3887f8aa",
   "metadata": {
    "pycharm": {
     "name": "#%%\n"
    }
   },
   "outputs": [],
   "source": []
  }
 ],
 "metadata": {
  "kernelspec": {
   "display_name": "Python 3 (ipykernel)",
   "language": "python",
   "name": "python3"
  },
  "language_info": {
   "codemirror_mode": {
    "name": "ipython",
    "version": 3
   },
   "file_extension": ".py",
   "mimetype": "text/x-python",
   "name": "python",
   "nbconvert_exporter": "python",
   "pygments_lexer": "ipython3",
   "version": "3.9.16"
  }
 },
 "nbformat": 4,
 "nbformat_minor": 5
}